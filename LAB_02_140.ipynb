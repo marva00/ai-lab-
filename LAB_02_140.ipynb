{
  "nbformat": 4,
  "nbformat_minor": 0,
  "metadata": {
    "colab": {
      "provenance": []
    },
    "kernelspec": {
      "name": "python3",
      "display_name": "Python 3"
    },
    "language_info": {
      "name": "python"
    }
  },
  "cells": [
    {
      "cell_type": "code",
      "execution_count": null,
      "metadata": {
        "id": "LA6cv1C3_1JX"
      },
      "outputs": [],
      "source": []
    },
    {
      "cell_type": "markdown",
      "source": [
        "#ACTIVITY 01"
      ],
      "metadata": {
        "id": "TF0mVuL4_6gm"
      }
    },
    {
      "cell_type": "code",
      "source": [
        "# Accept two lists from user and display their join\n",
        "list1 = input(\"Enter first list elements separated by spaces: \").split()\n",
        "list2 = input(\"Enter second list elements separated by spaces: \").split()\n",
        "\n",
        "# Join the two lists\n",
        "joined_list = list1 + list2\n",
        "print(\"Joined List:\", joined_list)\n"
      ],
      "metadata": {
        "colab": {
          "base_uri": "https://localhost:8080/"
        },
        "id": "R6em4zO1_881",
        "outputId": "b7553327-602e-4f50-fabc-9a71e56e2872"
      },
      "execution_count": 1,
      "outputs": [
        {
          "output_type": "stream",
          "name": "stdout",
          "text": [
            "Enter first list elements separated by spaces: 3 4 5 6 3 2\n",
            "Enter second list elements separated by spaces: 5 5 2 5 7 8\n",
            "Joined List: ['3', '4', '5', '6', '3', '2', '5', '5', '2', '5', '7', '8']\n"
          ]
        }
      ]
    },
    {
      "cell_type": "markdown",
      "source": [
        "#ACTIVITY 02\n"
      ],
      "metadata": {
        "id": "U3XRzN5JAA6m"
      }
    },
    {
      "cell_type": "code",
      "source": [
        "# Function to check if a string is a palindrome\n",
        "def is_palindrome(s):\n",
        "    s = s.lower().replace(\" \", \"\")  # Convert to lowercase and remove spaces\n",
        "    return s == s[::-1]\n",
        "\n",
        "# Take input from user\n",
        "string = input(\"Enter a string: \")\n",
        "\n",
        "# Check if palindrome\n",
        "if is_palindrome(string):\n",
        "    print(\"The given string is a palindrome.\")\n",
        "else:\n",
        "    print(\"The given string is not a palindrome.\")\n"
      ],
      "metadata": {
        "id": "kARQIeXfAJyX"
      },
      "execution_count": null,
      "outputs": []
    },
    {
      "cell_type": "markdown",
      "source": [
        "#ACTIVITY 03\n"
      ],
      "metadata": {
        "id": "8EVaV_VhAL1-"
      }
    },
    {
      "cell_type": "code",
      "source": [
        "# Matrix multiplication of two 3x3 matrices\n",
        "a = [[1, 0, 0], [0, 1, 0], [0, 0, 1]]\n",
        "b = [[1, 2, 3], [4, 5, 6], [7, 8, 9]]\n",
        "\n",
        "# Initialize result matrix\n",
        "c = [[0, 0, 0], [0, 0, 0], [0, 0, 0]]\n",
        "\n",
        "# Perform multiplication\n",
        "for i in range(len(a)):\n",
        "    for j in range(len(b[0])):\n",
        "        for k in range(len(b)):\n",
        "            c[i][j] += a[i][k] * b[k][j]\n",
        "\n",
        "# Print result\n",
        "print(\"Resultant Matrix:\")\n",
        "for row in c:\n",
        "    print(row)\n"
      ],
      "metadata": {
        "id": "yOGuYk8EAO9l"
      },
      "execution_count": null,
      "outputs": []
    },
    {
      "cell_type": "markdown",
      "source": [
        "#ACTIVITY 04\n"
      ],
      "metadata": {
        "id": "64mzLEk0AYot"
      }
    },
    {
      "cell_type": "code",
      "source": [
        "import math\n",
        "\n",
        "# Function to calculate distance between two points\n",
        "def distance(p1, p2):\n",
        "    return math.sqrt((p1[0] - p2[0])**2 + (p1[1] - p2[1])**2)\n",
        "\n",
        "# Function to calculate perimeter of a polygon\n",
        "def perimeter(polygon):\n",
        "    perim = 0\n",
        "    for i in range(len(polygon)):\n",
        "        perim += distance(polygon[i], polygon[(i + 1) % len(polygon)])\n",
        "    return perim\n",
        "\n",
        "# Take input as list of tuples\n",
        "n = int(input(\"Enter number of sides: \"))\n",
        "polygon = []\n",
        "for i in range(n):\n",
        "    x, y = map(float, input(f\"Enter coordinates of point {i+1} (x y): \").split())\n",
        "    polygon.append((x, y))\n",
        "\n",
        "print(\"Perimeter of the polygon:\", perimeter(polygon))\n"
      ],
      "metadata": {
        "id": "AFEoadzZAc5l"
      },
      "execution_count": null,
      "outputs": []
    },
    {
      "cell_type": "markdown",
      "source": [
        "#ACTIVITY 05\n",
        "\n"
      ],
      "metadata": {
        "id": "x90V86ADAd3m"
      }
    },
    {
      "cell_type": "code",
      "source": [
        "# Function to compute symmetric difference without using built-in functions\n",
        "def symmetric_difference(setA, setB):\n",
        "    return [item for item in setA if item not in setB] + [item for item in setB if item not in setA]\n",
        "\n",
        "# Input sets from user\n",
        "setA = set(map(int, input(\"Enter elements of first set separated by spaces: \").split()))\n",
        "setB = set(map(int, input(\"Enter elements of second set separated by spaces: \").split()))\n",
        "\n",
        "# Compute symmetric difference\n",
        "setC = symmetric_difference(setA, setB)\n",
        "\n",
        "print(\"Symmetric Difference (Custom Function):\", setC)\n",
        "print(\"Using Built-in Function:\", setA.symmetric_difference(setB))\n",
        "print(\"Using Operator (^):\", setA ^ setB)\n"
      ],
      "metadata": {
        "id": "itDcgkoGAivF"
      },
      "execution_count": null,
      "outputs": []
    },
    {
      "cell_type": "markdown",
      "source": [
        "#ACTIVITY 06\n"
      ],
      "metadata": {
        "id": "S8udpIdWAyjO"
      }
    },
    {
      "cell_type": "code",
      "source": [
        "# Dictionary storing phone numbers\n",
        "phone_book = {\n",
        "    (\"John\", \"Doe\"): \"123-456-7890\",\n",
        "    (\"Jane\", \"Smith\"): \"987-654-3210\",\n",
        "    (\"Alice\", \"Brown\"): \"555-555-5555\"\n",
        "}\n",
        "\n",
        "# Take user input\n",
        "first_name = input(\"Enter first name: \")\n",
        "last_name = input(\"Enter last name: \")\n",
        "\n",
        "# Search for number\n",
        "phone_number = phone_book.get((first_name, last_name), \"Not Found\")\n",
        "\n",
        "print(f\"Phone Number: {phone_number}\")\n"
      ],
      "metadata": {
        "id": "M6DwyEZmA1bj"
      },
      "execution_count": null,
      "outputs": []
    },
    {
      "cell_type": "markdown",
      "source": [
        "#LAB TASK 01\n"
      ],
      "metadata": {
        "id": "9ETrjhIsA3as"
      }
    },
    {
      "cell_type": "code",
      "source": [
        "list1 = list(map(int, input(\"Enter first list of numbers separated by spaces: \").split()))\n",
        "list2 = list(map(int, input(\"Enter second list of numbers separated by spaces: \").split()))\n",
        "\n",
        "# Merge and sort\n",
        "merged_list = sorted(list1 + list2)\n",
        "\n",
        "print(\"Sorted Merged List:\", merged_list)\n"
      ],
      "metadata": {
        "id": "UlXP6n4FA5dT"
      },
      "execution_count": null,
      "outputs": []
    },
    {
      "cell_type": "markdown",
      "source": [
        "#LAB TASK 02"
      ],
      "metadata": {
        "id": "14GDCxreBF2q"
      }
    },
    {
      "cell_type": "code",
      "source": [
        "numbers = list(map(int, input(\"Enter list of numbers separated by spaces: \").split()))\n",
        "\n",
        "# Find smallest and largest\n",
        "smallest = min(numbers)\n",
        "largest = max(numbers)\n",
        "\n",
        "print(\"Smallest Number:\", smallest)\n",
        "print(\"Largest Number:\", largest)\n"
      ],
      "metadata": {
        "id": "n3ql4T5bBHtx"
      },
      "execution_count": null,
      "outputs": []
    },
    {
      "cell_type": "markdown",
      "source": [
        "#LAB TASK 03\n"
      ],
      "metadata": {
        "id": "2DAmtOEGBIvS"
      }
    },
    {
      "cell_type": "code",
      "source": [
        "import math\n",
        "\n",
        "# Function to approximate derivative\n",
        "def derivative(f, x, h=0.001):\n",
        "    return (f(x + h) - f(x)) / h\n",
        "\n",
        "# Define function f(x) = sin(x)\n",
        "def f(x):\n",
        "    return math.sin(x)\n",
        "\n",
        "# Compute derivative for values of x from -pi to pi\n",
        "x_values = [x * 0.001 for x in range(int(-math.pi * 1000), int(math.pi * 1000))]\n",
        "for x in x_values:\n",
        "    print(f\"x = {x:.3f}, Approximated f'(x) = {derivative(f, x):.6f}, Exact cos(x) = {math.cos(x):.6f}\")\n"
      ],
      "metadata": {
        "id": "1nZfzK2cBKmB"
      },
      "execution_count": null,
      "outputs": []
    },
    {
      "cell_type": "markdown",
      "source": [
        "#LAB TASK 04"
      ],
      "metadata": {
        "id": "yxb1E2s6BMxj"
      }
    },
    {
      "cell_type": "code",
      "source": [
        "# Dictionary of birthdays\n",
        "birthdays = {\n",
        "    \"Albert Einstein\": \"03/14/1879\",\n",
        "    \"Benjamin Franklin\": \"01/17/1706\",\n",
        "    \"Ada Lovelace\": \"12/10/1815\"\n",
        "}\n",
        "\n",
        "print(\"Welcome to the birthday dictionary. We know the birthdays of:\")\n",
        "for name in birthdays:\n",
        "    print(name)\n",
        "\n",
        "# Take input\n",
        "name = input(\"Who's birthday do you want to look up? \")\n",
        "\n",
        "# Display birthday\n",
        "print(f\"{name}'s birthday is {birthdays.get(name, 'Not Found')}.\")\n"
      ],
      "metadata": {
        "id": "7s6bf4poBQRx"
      },
      "execution_count": null,
      "outputs": []
    },
    {
      "cell_type": "markdown",
      "source": [
        "#LAB TASK 05\n"
      ],
      "metadata": {
        "id": "kNPviDH8BROw"
      }
    },
    {
      "cell_type": "code",
      "source": [
        "# Given dictionary\n",
        "sample_dict = {\n",
        "    \"name\": \"Kelly\",\n",
        "    \"age\": 25,\n",
        "    \"salary\": 8000,\n",
        "    \"city\": \"New York\"\n",
        "}\n",
        "\n",
        "# Keys to extract\n",
        "keys = [\"name\", \"salary\"]\n",
        "\n",
        "# Extract dictionary\n",
        "new_dict = {k: sample_dict[k] for k in keys}\n",
        "\n",
        "print(\"Extracted Dictionary:\", new_dict)\n"
      ],
      "metadata": {
        "id": "-lFrOfJABTev"
      },
      "execution_count": null,
      "outputs": []
    }
  ]
}