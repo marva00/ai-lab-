{
  "nbformat": 4,
  "nbformat_minor": 0,
  "metadata": {
    "colab": {
      "provenance": []
    },
    "kernelspec": {
      "name": "python3",
      "display_name": "Python 3"
    },
    "language_info": {
      "name": "python"
    }
  },
  "cells": [
    {
      "cell_type": "markdown",
      "source": [],
      "metadata": {
        "id": "VFWajQqkz68j"
      }
    },
    {
      "cell_type": "markdown",
      "source": [
        "#ACTIVITY 01\n"
      ],
      "metadata": {
        "id": "NUBir2B00BwE"
      }
    },
    {
      "cell_type": "markdown",
      "source": [],
      "metadata": {
        "id": "gR95TQN8z_c0"
      }
    },
    {
      "cell_type": "code",
      "source": [
        "n = input (\"enter a number\")\n",
        "if int(n) % 2 == 0 :\n",
        "  print(\"the given number is a even number\")\n",
        "else:\n",
        "  print(\"the given number is a odd number\")"
      ],
      "metadata": {
        "colab": {
          "base_uri": "https://localhost:8080/"
        },
        "collapsed": true,
        "id": "nPxRArnwxPOQ",
        "outputId": "05548167-bf53-437a-eec8-1603e0de8b93"
      },
      "execution_count": 2,
      "outputs": [
        {
          "output_type": "stream",
          "name": "stdout",
          "text": [
            "enter a number11\n",
            "the given number is a odd number\n"
          ]
        }
      ]
    },
    {
      "cell_type": "markdown",
      "source": [
        "#ACTIVITY 02\n"
      ],
      "metadata": {
        "id": "PB6nOyxPxH8w"
      }
    },
    {
      "cell_type": "code",
      "source": [
        "sum=0\n",
        "s=input(\"Enter an integer value...\")\n",
        "n=int(s)\n",
        "while n!=0:\n",
        "    sum=sum+n\n",
        "    s=input(\"Enter an integer value...\")\n",
        "    n=int(s)\n",
        "print(\"Sum of given values is \",sum)\n"
      ],
      "metadata": {
        "colab": {
          "base_uri": "https://localhost:8080/"
        },
        "id": "hrLxkyer7btp",
        "outputId": "88c068a5-9d70-498e-b60b-3e31e27d330f"
      },
      "execution_count": 5,
      "outputs": [
        {
          "output_type": "stream",
          "name": "stdout",
          "text": [
            "Enter an integer value...4\n",
            "Enter an integer value...2\n",
            "Enter an integer value...0\n",
            "Sum of given values is  6\n"
          ]
        }
      ]
    },
    {
      "cell_type": "markdown",
      "source": [
        "#ACTIVITY 3\n"
      ],
      "metadata": {
        "id": "t6OUSQPd7n1Z"
      }
    },
    {
      "cell_type": "code",
      "source": [
        "n = int(input(\"Enter a number: \"))\n",
        "primeno = True\n",
        "i = 2\n",
        "\n",
        "while i < n:\n",
        "    if n % i == 0:\n",
        "        primeno = False\n",
        "        break\n",
        "    i += 1\n",
        "\n",
        "if primeno:\n",
        "    print(\"Number is prime\")\n",
        "else:\n",
        "    print(\"Number is not prime\")\n"
      ],
      "metadata": {
        "colab": {
          "base_uri": "https://localhost:8080/"
        },
        "id": "pf3TH9RR7qpH",
        "outputId": "51e52059-4ae2-429d-af0f-6d349f548c69"
      },
      "execution_count": 6,
      "outputs": [
        {
          "output_type": "stream",
          "name": "stdout",
          "text": [
            "Enter a number: 3\n",
            "Number is prime\n"
          ]
        }
      ]
    },
    {
      "cell_type": "markdown",
      "source": [
        "#ACTIVITY 4\n"
      ],
      "metadata": {
        "id": "-OF6D28y7wsB"
      }
    },
    {
      "cell_type": "code",
      "source": [
        "summation = 0\n",
        "i = 1\n",
        "while i <= 10:\n",
        "    summation += i\n",
        "    i += 1\n",
        "\n",
        "print(\"Sum is:\", summation)\n"
      ],
      "metadata": {
        "colab": {
          "base_uri": "https://localhost:8080/"
        },
        "id": "P4GR6Jxd7qOY",
        "outputId": "b5459b0f-ee03-4f28-ff3c-6235d3a430fb"
      },
      "execution_count": 7,
      "outputs": [
        {
          "output_type": "stream",
          "name": "stdout",
          "text": [
            "Sum is: 55\n"
          ]
        }
      ]
    },
    {
      "cell_type": "markdown",
      "source": [
        "#ACTIVITY 5"
      ],
      "metadata": {
        "id": "OHe3YCOs76dZ"
      }
    },
    {
      "cell_type": "code",
      "source": [
        "n = int(input(\"Enter a number: \"))\n",
        "print(\"Sum:\", n * (n + 1) // 2)\n"
      ],
      "metadata": {
        "colab": {
          "base_uri": "https://localhost:8080/"
        },
        "id": "P7LzAHOX8EM4",
        "outputId": "47a47604-1b5a-447a-c624-eb057ad6da66"
      },
      "execution_count": 8,
      "outputs": [
        {
          "output_type": "stream",
          "name": "stdout",
          "text": [
            "Enter a number: 4\n",
            "Sum: 10\n"
          ]
        }
      ]
    },
    {
      "cell_type": "markdown",
      "source": [
        "#ACTIVITY 6\n"
      ],
      "metadata": {
        "id": "u_PDz5gZ9IF4"
      }
    },
    {
      "cell_type": "code",
      "source": [
        "name = input(\"What is your name? \")\n",
        "print(\"Hello \" + name)\n",
        "job = input(\"What is your job? \")\n",
        "print(\"Your job is: \" + job)\n",
        "num = int(input(\"Give me a number: \"))\n",
        "print(\"You said: \" + str(num))\n"
      ],
      "metadata": {
        "colab": {
          "base_uri": "https://localhost:8080/"
        },
        "id": "8nsrsl9q9LpX",
        "outputId": "b64b89b3-5aa6-48e1-edcb-64802e111f00"
      },
      "execution_count": 10,
      "outputs": [
        {
          "output_type": "stream",
          "name": "stdout",
          "text": [
            "What is your name? mARVA\n",
            "Hello mARVA\n",
            "What is your job? CS\n",
            "Your job is: CS\n",
            "Give me a number: 4\n",
            "You said: 4\n"
          ]
        }
      ]
    },
    {
      "cell_type": "markdown",
      "source": [
        "#ACTIVITY 7\n"
      ],
      "metadata": {
        "id": "EL5IAtvq8IUQ"
      }
    },
    {
      "cell_type": "code",
      "source": [
        "import random\n",
        "\n",
        "MINIMUM = 1\n",
        "MAXIMUM = 9\n",
        "NUMBER = random.randint(MINIMUM, MAXIMUM)\n",
        "GUESS = None\n",
        "TRY = 0\n",
        "RUNNING = True\n",
        "\n",
        "print(\"Alright...\")\n",
        "\n",
        "while RUNNING:\n",
        "    GUESS = input(\"What is your lucky number? \")\n",
        "\n",
        "    if GUESS.lower() == \"exit\":\n",
        "        print(\"Better luck next time.\")\n",
        "        break\n",
        "\n",
        "    if not GUESS.isdigit():\n",
        "        print(\"Please enter a valid number.\")\n",
        "        continue\n",
        "\n",
        "    GUESS = int(GUESS)\n",
        "\n",
        "    if GUESS < NUMBER:\n",
        "        print(\"Wrong, too low.\")\n",
        "    elif GUESS > NUMBER:\n",
        "        print(\"Wrong, too high.\")\n",
        "    else:\n",
        "        print(f\"Yes, that's the one, {NUMBER}.\")\n",
        "        if TRY < 2:\n",
        "            print(f\"Impressive, only {TRY} tries.\")\n",
        "        elif 2 <= TRY < 10:\n",
        "            print(f\"Pretty good, {TRY} tries.\")\n",
        "        else:\n",
        "            print(f\"Bad, {TRY} tries.\")\n",
        "        RUNNING = False\n",
        "    TRY += 1\n"
      ],
      "metadata": {
        "colab": {
          "base_uri": "https://localhost:8080/"
        },
        "id": "TwtLyGfy8Kpo",
        "outputId": "4a06d27c-4b15-437b-8b50-d86e5e43bfd8"
      },
      "execution_count": 9,
      "outputs": [
        {
          "output_type": "stream",
          "name": "stdout",
          "text": [
            "Alright...\n",
            "What is your lucky number? 4\n",
            "Yes, that's the one, 4.\n",
            "Impressive, only 0 tries.\n"
          ]
        }
      ]
    },
    {
      "cell_type": "markdown",
      "source": [
        "#LAB TASK 01\n"
      ],
      "metadata": {
        "id": "zat5sjw89Su_"
      }
    },
    {
      "cell_type": "code",
      "source": [
        "num = input(\"Enter an integer: \")\n",
        "reversed_num = num[::-1]\n",
        "print(f\"Reversed number: {reversed_num}\")\n"
      ],
      "metadata": {
        "colab": {
          "base_uri": "https://localhost:8080/"
        },
        "id": "ZiXa_OvH9U_X",
        "outputId": "dd3aabe8-d152-4e33-ff28-6b4259da3915"
      },
      "execution_count": 11,
      "outputs": [
        {
          "output_type": "stream",
          "name": "stdout",
          "text": [
            "Enter an integer: 3\n",
            "Reversed number: 3\n"
          ]
        }
      ]
    },
    {
      "cell_type": "markdown",
      "source": [
        "#LAB TASK 02\n"
      ],
      "metadata": {
        "id": "nh-5eDx_9Z69"
      }
    },
    {
      "cell_type": "code",
      "source": [
        "numbers = input(\"Enter a set of integers separated by spaces: \")\n",
        "numbers = list(map(int, numbers.split()))\n",
        "even_sum = 0\n",
        "odd_sum = 0\n",
        "for num in numbers:\n",
        "    if num % 2 == 0:\n",
        "        even_sum += num\n",
        "    else:\n",
        "        odd_sum += num\n",
        "print(f\"Sum of even numbers: {even_sum}\")\n",
        "print(f\"Sum of odd numbers: {odd_sum}\")\n"
      ],
      "metadata": {
        "colab": {
          "base_uri": "https://localhost:8080/"
        },
        "id": "qc-jNkev9dqn",
        "outputId": "a3e6f560-b2ad-4d08-a168-e25c856002a1"
      },
      "execution_count": 12,
      "outputs": [
        {
          "output_type": "stream",
          "name": "stdout",
          "text": [
            "Enter a set of integers separated by spaces: 3 4 5 6 7 8\n",
            "Sum of even numbers: 18\n",
            "Sum of odd numbers: 15\n"
          ]
        }
      ]
    },
    {
      "cell_type": "markdown",
      "source": [
        "#LAB TASK 03"
      ],
      "metadata": {
        "id": "g-SXEAoT9n7v"
      }
    },
    {
      "cell_type": "code",
      "source": [
        "n = int(input(\"Enter the number of terms: \"))\n",
        "a, b = 0, 1\n",
        "if n <= 0:\n",
        "    print(\"Please enter a positive integer.\")\n",
        "elif n == 1:\n",
        "    print(a)\n",
        "else:\n",
        "    print(a, b, end=\" \")\n",
        "    for _ in range(n - 2):\n",
        "        c = a + b\n",
        "        print(c, end=\" \")\n",
        "        a, b = b, c\n",
        "print()\n"
      ],
      "metadata": {
        "colab": {
          "base_uri": "https://localhost:8080/"
        },
        "id": "CApgI1JJ9p5G",
        "outputId": "80abda04-3eab-4cac-b4fb-55227ca66f57"
      },
      "execution_count": 14,
      "outputs": [
        {
          "output_type": "stream",
          "name": "stdout",
          "text": [
            "Enter the number of terms: 4\n",
            "0 1 1 2 \n"
          ]
        }
      ]
    },
    {
      "cell_type": "markdown",
      "source": [
        "#LAB TASK 04"
      ],
      "metadata": {
        "id": "8dsdMAJ091QQ"
      }
    },
    {
      "cell_type": "code",
      "source": [
        "marks = int(input(\"Enter the marks of the student (1-100): \"))\n",
        "\n",
        "if marks < 0 or marks > 100:\n",
        "    print(\"Invalid marks. Please enter a value between 1 and 100.\")\n",
        "elif marks < 50:\n",
        "    print(\"Grade F\")\n",
        "elif 50 <= marks <= 60:\n",
        "    print(\"Grade E\")\n",
        "elif 61 <= marks <= 70:\n",
        "    print(\"Grade D\")\n",
        "elif 71 <= marks <= 80:\n",
        "    print(\"Grade C\")\n",
        "elif 81 <= marks <= 90:\n",
        "    print(\"Grade B\")\n",
        "elif 91 <= marks <= 100:\n",
        "    print(\"Grade A\")\n"
      ],
      "metadata": {
        "colab": {
          "base_uri": "https://localhost:8080/"
        },
        "id": "j3n0BlqD94-W",
        "outputId": "4f04053f-0419-47da-cdac-518dd36950cd"
      },
      "execution_count": 15,
      "outputs": [
        {
          "output_type": "stream",
          "name": "stdout",
          "text": [
            "Enter the marks of the student (1-100): 56\n",
            "Grade E\n"
          ]
        }
      ]
    },
    {
      "cell_type": "markdown",
      "source": [],
      "metadata": {
        "id": "ZzAVJNPi98Rf"
      }
    },
    {
      "cell_type": "markdown",
      "source": [
        "#LAB TASK 05(A)\n"
      ],
      "metadata": {
        "id": "TkAd3xhO99zg"
      }
    },
    {
      "cell_type": "code",
      "source": [
        "num = int(input(\"Enter a non-negative integer: \"))\n",
        "factorial_iterative = 1\n",
        "if num < 0:\n",
        "    print(\"Factorial is not defined for negative numbers.\")\n",
        "else:\n",
        "    for i in range(1, num + 1):\n",
        "        factorial_iterative *= i\n",
        "    print(f\"Factorial of {num} (iterative) is: {factorial_iterative}\")\n"
      ],
      "metadata": {
        "colab": {
          "base_uri": "https://localhost:8080/"
        },
        "id": "fQ0fyWzJ-A0G",
        "outputId": "29245888-51f0-42dd-e3eb-82f83802d0da"
      },
      "execution_count": 16,
      "outputs": [
        {
          "output_type": "stream",
          "name": "stdout",
          "text": [
            "Enter a non-negative integer: 5\n",
            "Factorial of 5 (iterative) is: 120\n"
          ]
        }
      ]
    },
    {
      "cell_type": "markdown",
      "source": [
        "#LAB TASK 05(B)"
      ],
      "metadata": {
        "id": "0w3cikzf-IIv"
      }
    },
    {
      "cell_type": "code",
      "source": [
        "num = int(input(\"Enter a non-negative integer: \"))\n",
        "def factorial_recursive(n):\n",
        "    if n == 0 or n == 1:\n",
        "        return 1\n",
        "    else:\n",
        "        return n * factorial_recursive(n - 1)\n",
        "if num >= 0:\n",
        "    factorial_recursive_result = factorial_recursive(num)\n",
        "    print(f\"Factorial of {num} (recursive) is: {factorial_recursive_result}\")\n"
      ],
      "metadata": {
        "colab": {
          "base_uri": "https://localhost:8080/"
        },
        "id": "UdaMTdJ2-MK2",
        "outputId": "88e3c901-f2d9-4439-a6d7-3cdef90d1fdc"
      },
      "execution_count": 17,
      "outputs": [
        {
          "output_type": "stream",
          "name": "stdout",
          "text": [
            "Enter a non-negative integer: 4\n",
            "Factorial of 4 (recursive) is: 24\n"
          ]
        }
      ]
    }
  ]
}